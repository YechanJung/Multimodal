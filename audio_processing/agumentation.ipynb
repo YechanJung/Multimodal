{
 "cells": [
  {
   "cell_type": "code",
   "execution_count": null,
   "metadata": {},
   "outputs": [],
   "source": [
    "!pip install torch_audiomentations"
   ]
  },
  {
   "cell_type": "code",
   "execution_count": null,
   "metadata": {},
   "outputs": [],
   "source": [
    "import glob\n",
    "import librosa\n",
    "import torch\n",
    "import torchaudio\n",
    "import numpy as np\n",
    "from IPython.display import Audio, display\n",
    "from torch_audiomentations import Compose, Gain, PolarityInversion\n",
    "\n",
    "paths_to_audio = glob.glob('audio_clean/*.wav')\n",
    "\n",
    "audio = list()\n",
    "for path_to_audio in paths_to_audio:\n",
    "    track, _ = librosa.load(path_to_audio, sr=44100, dtype=np.float32)\n",
    "\n",
    "    audio.append(track)\n",
    "for audio_files in audio:\n",
    "  display(Audio(audio_files, rate=44100, embed=True))"
   ]
  },
  {
   "cell_type": "code",
   "execution_count": null,
   "metadata": {},
   "outputs": [],
   "source": [
    "# Convert waveform to tensor\n",
    "def apply_augmentation(sample):\n",
    "  # Initialize augmentation callable\n",
    "  augmentation = Compose(\n",
    "      transforms=[\n",
    "          Gain(\n",
    "              min_gain_in_db=-150.0,\n",
    "              max_gain_in_db=50.0,\n",
    "              p=0.75,\n",
    "          ),\n",
    "          PolarityInversion(p=0.5)\n",
    "                ]\n",
    "  )\n",
    "  #Get shape as number of samples in tensor\n",
    "  num_samples = sample.shape\n",
    "  #numpy to torch tensor conversion\n",
    "  sample = torch.from_numpy(sample)\n",
    "  #reshaping torch tensor\n",
    "  reshaped_tensor = sample.reshape(1,1,num_samples[0])\n",
    "  # Apply augmentation. This varies the gain and polarity of (some of)\n",
    "  # the audio snippets in the batch independently.\n",
    "  return augmentation(reshaped_tensor, sample_rate=16000)"
   ]
  },
  {
   "cell_type": "code",
   "execution_count": null,
   "metadata": {},
   "outputs": [],
   "source": []
  }
 ],
 "metadata": {
  "language_info": {
   "name": "python"
  }
 },
 "nbformat": 4,
 "nbformat_minor": 2
}
